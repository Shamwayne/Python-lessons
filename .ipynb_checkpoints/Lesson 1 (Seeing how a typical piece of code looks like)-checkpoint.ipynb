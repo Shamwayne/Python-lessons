{
 "cells": [
  {
   "cell_type": "markdown",
   "metadata": {},
   "source": [
    "<p>\n",
    "    The assumption is you already have installed anaconda with <b>python 3.5.4</b> which the interpreter we are to use.<br>\n",
    "    Familiarise yourself with basic uses or the <b>Jupyter</b> Notebook and <b>pip</b> installation.<br>\n",
    "    Basic use of python syntax i.e comments, print statements etc has been covered. \n",
    "</p>"
   ]
  },
  {
   "cell_type": "code",
   "execution_count": 3,
   "metadata": {},
   "outputs": [
    {
     "name": "stdout",
     "output_type": "stream",
     "text": [
      "Hello World\n"
     ]
    }
   ],
   "source": [
    "# we all know the start point is always \"Helll World\"\n",
    "# so here goes\n",
    "print('Hello World')"
   ]
  },
  {
   "cell_type": "markdown",
   "metadata": {},
   "source": [
    "### Now to begin slaying the Python"
   ]
  },
  {
   "cell_type": "code",
   "execution_count": 7,
   "metadata": {},
   "outputs": [
    {
     "name": "stdout",
     "output_type": "stream",
     "text": [
      "The value for x is 1\n",
      "The value for y is WorldWorld\n"
     ]
    }
   ],
   "source": [
    "## ~~ Sample code 1\n",
    "\n",
    "x = 0\n",
    "y = \"World\"\n",
    "z = 1.23\n",
    "\n",
    "if z == 1.23 or y == \"Hello\": # looping constract\n",
    "    x = x + 1\n",
    "  # x=+1  ->adds 1 just like the line above\n",
    "  # x+=1  ->preappends 1\n",
    "    y = y + \"World\" # string concatenation\n",
    "    \n",
    "print(\"The value for x is\",x)\n",
    "print(\"The value for y is\",y)"
   ]
  },
  {
   "cell_type": "markdown",
   "metadata": {},
   "source": [
    "Explanation of the code above<br>\n",
    "``\n",
    "x = 0\n",
    "y = \"World\"\n",
    "z = 1.23\n",
    "``\n",
    "<p>\n",
    "Python inferes data types(int, string, float ,...) from the values you assign to the variable i.e what is on the left side of the ``=`` sign.<br\\>\n",
    "In short variable in python do not need to be declared.\n",
    "</p>\n",
    "\n",
    "`=` is for assignment use and `==` is for comparing values.<br>\n",
    "<br>\n",
    "`=` is read as: `<some variable>` is equal to `<some value>`<br>\n",
    "<br>\n",
    "`==` is read as: is `<some value contained in a variable>` is equal to `<some value>`?<br>\n",
    "<br>\n",
    "`!=` is read as: is `<some value contained in a variable>` is <b>not</b> equal to `<some value>`?<br>\n",
    "`!=` and `<>` have the same use case and meaning<br>\n",
    "<br>\n",
    "<b>Operands</b> for numerical values are ``+, -, *, /, %,<,> ``<br>\n",
    "<b>Operands for text/string</b>:<br>\n",
    "`+` is for string concatenation(joining)<br>\n",
    "`%` special use in string formatting in a print statement to get output in a desired format.\n",
    "<br>\n",
    "<br>\n",
    "<b>Logical operators</b> are `and`,`or`, `not`<br>\n"
   ]
  },
  {
   "cell_type": "code",
   "execution_count": null,
   "metadata": {},
   "outputs": [],
   "source": []
  }
 ],
 "metadata": {
  "kernelspec": {
   "display_name": "Python 3",
   "language": "python",
   "name": "python3"
  },
  "language_info": {
   "codemirror_mode": {
    "name": "ipython",
    "version": 3
   },
   "file_extension": ".py",
   "mimetype": "text/x-python",
   "name": "python",
   "nbconvert_exporter": "python",
   "pygments_lexer": "ipython3",
   "version": "3.5.4"
  }
 },
 "nbformat": 4,
 "nbformat_minor": 2
}
