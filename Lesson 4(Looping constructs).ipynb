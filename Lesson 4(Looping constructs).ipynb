{
 "cells": [
  {
   "cell_type": "markdown",
   "metadata": {},
   "source": [
    "Just like the gif below we don't want a never ending sequence in our code.<br>\n",
    "So lets \"_slay the python_\" with looping constructs\n",
    "![loop](img/loop.gif)"
   ]
  },
  {
   "cell_type": "code",
   "execution_count": 1,
   "metadata": {},
   "outputs": [],
   "source": [
    "# To begin lets assign a value 2 to the variable \"some_variable\"\n",
    "our_variable = 3"
   ]
  },
  {
   "cell_type": "markdown",
   "metadata": {},
   "source": [
    "### The \"if\"\n",
    "The <b>if</b> statements is pretty straight forward just like in the modern english language.<br>\n",
    "Personally l always factor in an <b>else</b> staments to cater for conditions that may/will not be met, either way it always good to be safe you can never be too safe."
   ]
  },
  {
   "cell_type": "code",
   "execution_count": 2,
   "metadata": {},
   "outputs": [],
   "source": [
    "if our_variable == 3:\n",
    "    print(\"our_variable equals 3.\")\n",
    "elif our_variable == 2:\n",
    "    print(\"our_variable equals 2.\")\n",
    "else:\n",
    "    print(\"our_variable equals something else.\")\n",
    "\n",
    "# Always becareful of your indentation the statement below shows\n",
    "# results of what careless coding could do\n",
    "print(\"This is outside the 'if statement'.\")"
   ]
  },
  {
   "cell_type": "markdown",
   "metadata": {},
   "source": [
    "### While loop\n",
    "![While](img/while.png)"
   ]
  },
  {
   "cell_type": "code",
   "execution_count": 3,
   "metadata": {},
   "outputs": [
    {
     "name": "stdout",
     "output_type": "stream",
     "text": [
      "our_variable has the value=> 3\n",
      "our_variable has the value=> 4\n",
      "\n",
      " we are now assigning new value of 6 to our_varible\n",
      "\n",
      " wonder why it didn't print our new value?\n"
     ]
    }
   ],
   "source": [
    "# loop 1\n",
    "while our_variable < 5: \n",
    "    print (\"our_variable has the value=>\",our_variable) # we are in loop 1\n",
    "    our_variable = our_variable + 1                     # we are in loop 1\n",
    "\n",
    "# we are now outside of loop 1\n",
    "\n",
    "print (\"\\n we are now assigning new value of 6 to our_varible\")\n",
    "our_variable = 6\n",
    "# loop 2\n",
    "while our_variable < 5:\n",
    "    print (our_variable) # we are now in loop 2\n",
    "    \n",
    "print (\"\\n wonder why it didn't print our new value?\")"
   ]
  },
  {
   "cell_type": "markdown",
   "metadata": {},
   "source": [
    "### Assert"
   ]
  },
  {
   "cell_type": "markdown",
   "metadata": {},
   "source": [
    "We wont get our hand dirty here but we will not skip it because it has been a<br> versatile tool in my personal \"python slaying\" quests.<br>\n",
    "<br>\n",
    "![Assert](img/assert.png)\n",
    "<br>\n",
    "An <em>assert</em> statement will check to make sure that something is true during the course of a program.\n",
    "* If the condition is false, the program stops\n",
    "* (more accurately: it throws an exception an <b>AssertionError</b>)\n",
    "![AssertionError](img/AssertionError.png)"
   ]
  },
  {
   "cell_type": "code",
   "execution_count": 4,
   "metadata": {},
   "outputs": [],
   "source": [
    "assert (our_variable == 6)"
   ]
  },
  {
   "cell_type": "markdown",
   "metadata": {},
   "source": [
    "### For Loop"
   ]
  },
  {
   "cell_type": "markdown",
   "metadata": {},
   "source": [
    "Wether the <b>For</b> loop is the best is another topic of discussion, but the fact is it's my weapon of choice in any \"python slaying\" quest no matter the weather.<br> \n",
    "Warning!!! you may bleed a bit before you master it.\n",
    "<br>\n",
    "![For](img/transform.gif)\n",
    "<br>\n",
    "* For-each is Python's _only_ form of for loop\n",
    "* A for loop steps through each of the items in a collection type,<br>\n",
    "  or any other type of object which is \"iterable\"\n",
    "  \n",
    "<code>\n",
    "for &lt;item&gt; in &lt;collection&gt;:\n",
    "    &lt;statements&gt;\n",
    "</code>\n",
    "\n",
    "* if `<collection>` is a list or a tuple, then the loop steps<br>\n",
    "    through each elemnt of the sequence\n",
    "* if `<collection>` is a string, then the loop steps<br>\n",
    "    through each character pf the dtring."
   ]
  },
  {
   "cell_type": "code",
   "execution_count": 5,
   "metadata": {},
   "outputs": [
    {
     "name": "stdout",
     "output_type": "stream",
     "text": [
      "H\n",
      "e\n",
      "l\n",
      "l\n",
      "o\n",
      " \n",
      "W\n",
      "o\n",
      "r\n",
      "l\n",
      "d\n"
     ]
    }
   ],
   "source": [
    "for someChar in \"Hello World\":\n",
    "    print (someChar)"
   ]
  },
  {
   "cell_type": "code",
   "execution_count": 6,
   "metadata": {},
   "outputs": [
    {
     "name": "stdout",
     "output_type": "stream",
     "text": [
      "Hello World"
     ]
    }
   ],
   "source": [
    "for someChar in \"Hello World\":\n",
    "    print (someChar, end=\"\")"
   ]
  },
  {
   "cell_type": "markdown",
   "metadata": {},
   "source": [
    "`\n",
    "for <item> in <collection>:\n",
    "    <statements>\n",
    "`\n",
    "\n",
    "* `<item>` can be more complex than a single variable name.\n",
    "* If the elements of `<collection>` are themselves collections,<br>\n",
    "  then `<item>` can match the structure of the elements. "
   ]
  },
  {
   "cell_type": "code",
   "execution_count": 7,
   "metadata": {},
   "outputs": [
    {
     "name": "stdout",
     "output_type": "stream",
     "text": [
      "x = a y = 1\n",
      "x = b y = 2\n",
      "x = c y = 3\n",
      "x = d y = 4\n"
     ]
    }
   ],
   "source": [
    "for (x,y) in [(\"a\",1),(\"b\",2),(\"c\",3),(\"d\",4)]:\n",
    "    print(\"x =\",x,\"y =\",y)"
   ]
  },
  {
   "cell_type": "markdown",
   "metadata": {},
   "source": [
    "<b>For</b> loops and the <b>range()</b> function\n",
    "* We often want to write a loop where the variables ranges<br>\n",
    "  over some sequence of numbers. The _range()_ function<br>\n",
    "  returns a list of numbers from 0 up to but not including the<br>\n",
    "  number we pass to it.\n",
    "* range(5) returns [0,1,2,3,4]\n",
    "* So we can say:<br>\n"
   ]
  },
  {
   "cell_type": "code",
   "execution_count": 8,
   "metadata": {},
   "outputs": [
    {
     "name": "stdout",
     "output_type": "stream",
     "text": [
      "0 1 2 3 4 "
     ]
    }
   ],
   "source": [
    "for x in range(5):\n",
    "    print(x, end=\" \")\n"
   ]
  },
  {
   "cell_type": "code",
   "execution_count": 9,
   "metadata": {},
   "outputs": [
    {
     "name": "stdout",
     "output_type": "stream",
     "text": [
      "0 1\n",
      "1 second values\n",
      "2 3\n",
      "3 4\n",
      "4 5\n",
      "5 5\n"
     ]
    }
   ],
   "source": [
    "# using enumarate\n",
    "\n",
    "mylist=[1,\"second values\",3,4,5,5]\n",
    "for (i,item) in enumerate(mylist):\n",
    "    print (i,item)"
   ]
  },
  {
   "cell_type": "code",
   "execution_count": 10,
   "metadata": {},
   "outputs": [
    {
     "data": {
      "text/plain": [
       "'merci'"
      ]
     },
     "execution_count": 10,
     "metadata": {},
     "output_type": "execute_result"
    }
   ],
   "source": [
    "\"\"\"merci\"\"\""
   ]
  }
 ],
 "metadata": {
  "kernelspec": {
   "display_name": "Python 3",
   "language": "python",
   "name": "python3"
  },
  "language_info": {
   "codemirror_mode": {
    "name": "ipython",
    "version": 3
   },
   "file_extension": ".py",
   "mimetype": "text/x-python",
   "name": "python",
   "nbconvert_exporter": "python",
   "pygments_lexer": "ipython3",
   "version": "3.5.4"
  }
 },
 "nbformat": 4,
 "nbformat_minor": 2
}
